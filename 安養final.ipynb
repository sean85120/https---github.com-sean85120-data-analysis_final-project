{
 "cells": [
  {
   "cell_type": "code",
   "execution_count": 161,
   "id": "1036cf2f",
   "metadata": {},
   "outputs": [],
   "source": [
    "import pandas as pd\n",
    "import numpy as np\n",
    "from sklearn import svm\n",
    "from sklearn.model_selection import KFold\n",
    "from sklearn import ensemble, metrics\n",
    "from sklearn.metrics import accuracy_score\n",
    "from sklearn.utils import shuffle\n",
    "import math\n",
    "from numpy import random\n",
    "from imblearn.over_sampling import SMOTE\n",
    "\n",
    "from sklearn.model_selection import train_test_split\n",
    "import matplotlib.pyplot as plt\n",
    "import matplotlib as mpl\n",
    "from pandas import Series, DataFrame\n"
   ]
  },
  {
   "cell_type": "code",
   "execution_count": 162,
   "id": "cdd26320",
   "metadata": {},
   "outputs": [],
   "source": [
    "# load data in\n",
    "\n",
    "dataset = pd.read_csv('input/train_rm2.csv')\n",
    "testset = pd.read_csv('input/test_rm2.csv')\n"
   ]
  },
  {
   "cell_type": "code",
   "execution_count": 163,
   "id": "c4f06dd7",
   "metadata": {},
   "outputs": [],
   "source": [
    "\n",
    "# preprocessing of data\n",
    "\n",
    "classcount1, classcount3, classcount2 = dataset['Y'].value_counts()\n",
    "\n",
    "y1 = dataset[dataset['Y']==1] \n",
    "y2 = dataset[dataset['Y']==2] \n",
    "y3 = dataset[dataset['Y']==3] \n"
   ]
  },
  {
   "cell_type": "code",
   "execution_count": 164,
   "id": "427a2fef",
   "metadata": {},
   "outputs": [
    {
     "name": "stderr",
     "output_type": "stream",
     "text": [
      "/var/folders/yv/0fxd8k0d0w7fn1h5v3_k46x80000gn/T/ipykernel_5812/701090111.py:9: FutureWarning: The frame.append method is deprecated and will be removed from pandas in a future version. Use pandas.concat instead.\n",
      "  dataset_oversample = dataset_oversample.append(y2_oversample)\n",
      "/var/folders/yv/0fxd8k0d0w7fn1h5v3_k46x80000gn/T/ipykernel_5812/701090111.py:10: FutureWarning: The frame.append method is deprecated and will be removed from pandas in a future version. Use pandas.concat instead.\n",
      "  dataset_oversample = dataset_oversample.append(y3_oversample)\n"
     ]
    }
   ],
   "source": [
    "# oversample y2, y3\n",
    "\n",
    "y2_oversample = y2.sample(classcount1, replace=True)\n",
    "y3_oversample = y3.sample(classcount1, replace=True)\n",
    "\n",
    "# append dataframe\n",
    "\n",
    "dataset_oversample = pd.DataFrame(y1)\n",
    "dataset_oversample = dataset_oversample.append(y2_oversample)\n",
    "dataset_oversample = dataset_oversample.append(y3_oversample)"
   ]
  },
  {
   "cell_type": "code",
   "execution_count": 165,
   "id": "c4840a8c",
   "metadata": {},
   "outputs": [],
   "source": [
    "# shuffle data and assign variable\n",
    "\n",
    "dataset_oversample = shuffle(dataset_oversample)\n",
    "label = dataset_oversample.Y\n",
    "\n",
    "# drop ID\n",
    "dataset_oversample = dataset_oversample.drop('ID', axis=1)\n",
    "testset = testset.drop('ID', axis=1)\n",
    "dataset_oversample = dataset_oversample[dataset_oversample.columns[:34]]\n",
    "\n",
    "kfold = KFold(n_splits = 20, shuffle = True)\n",
    "predicted = []\n",
    "expected = []"
   ]
  },
  {
   "cell_type": "code",
   "execution_count": 166,
   "id": "e4f222fc",
   "metadata": {},
   "outputs": [
    {
     "data": {
      "image/png": "[encoded data removed]",
      "text/plain": [
       "<Figure size 432x288 with 1 Axes>"
      ]
     },
     "metadata": {},
     "output_type": "display_data"
    }
   ],
   "source": [
    "label.value_counts().plot(kind='pie', colors=['lightcoral', 'skyblue', 'yellow'], autopct = '%1.2f%%')\n",
    "plt.title('')\n",
    "plt.ylabel('')\n",
    "plt.show()"
   ]
  },
  {
   "cell_type": "code",
   "execution_count": 167,
   "id": "3abc7367",
   "metadata": {},
   "outputs": [],
   "source": [
    "for train, test in kfold.split(dataset_oversample):\n",
    "    x_train = dataset_oversample.iloc[train]\n",
    "    y_train = label.iloc[train]\n",
    "    x_test = dataset_oversample.iloc[test]\n",
    "    y_test = label.iloc[test]\n",
    "    forest = ensemble.RandomForestClassifier(n_estimators= 250, max_depth=8)\n",
    "    forest = forest.fit(x_train,y_train)\n",
    "    expected.extend(y_test)\n",
    "    predicted.extend(forest.predict(x_test))"
   ]
  },
  {
   "cell_type": "code",
   "execution_count": 168,
   "id": "10f8fd0f",
   "metadata": {},
   "outputs": [
    {
     "name": "stdout",
     "output_type": "stream",
     "text": [
      "Macro-average: 0.7038470571999818\n",
      "Micro-average: 0.7155504234026174\n",
      "              precision    recall  f1-score   support\n",
      "\n",
      "           1       0.65      0.44      0.53      1732\n",
      "           2       0.90      1.00      0.95      1732\n",
      "           3       0.58      0.70      0.64      1732\n",
      "\n",
      "    accuracy                           0.72      5196\n",
      "   macro avg       0.71      0.72      0.70      5196\n",
      "weighted avg       0.71      0.72      0.70      5196\n",
      "\n",
      "[[ 769   98  865]\n",
      " [   0 1732    0]\n",
      " [ 415  100 1217]]\n",
      "Accuracy: 71.56%\n",
      "Average = macro\n",
      "precision: 0.7104788904977606\n",
      "recall: 0.7155504234026173\n",
      "F1-score: 0.7038470571999818\n",
      "\n",
      "\n",
      "Average = micro\n",
      "precision: 0.7155504234026174\n",
      "recall: 0.7155504234026174\n",
      "F1-score: 0.7155504234026174\n",
      "\n",
      "\n",
      "Average = weighted\n",
      "precision: 0.7104788904977607\n",
      "recall: 0.7155504234026174\n",
      "F1-score: 0.7038470571999818\n"
     ]
    }
   ],
   "source": [
    "print(\"Macro-average: {0}\".format(metrics.f1_score(expected,predicted,average='macro')))\n",
    "print(\"Micro-average: {0}\".format(metrics.f1_score(expected,predicted,average='micro')))\n",
    "print(metrics.classification_report(expected,predicted))\n",
    "print(metrics.confusion_matrix(expected, predicted))\n",
    "accuracy = accuracy_score(expected, predicted)\n",
    "print(\"Accuracy: %.2f%%\" % (accuracy * 100.0))\n",
    "\n",
    "print(\"Average = macro\")\n",
    "print('precision:',metrics.precision_score(expected, predicted,average='macro')) \n",
    "print('recall:',metrics.recall_score(expected, predicted,average='macro'))\n",
    "print('F1-score:',metrics.f1_score(expected, predicted,labels=[1,2,3],average='macro'))\n",
    "\n",
    "print(\"\\n\")\n",
    "print(\"Average = micro\")\n",
    "print('precision:', metrics.precision_score(expected, predicted, average='micro')) \n",
    "print('recall:',metrics.recall_score(expected, predicted,average='micro'))\n",
    "print('F1-score:',metrics.f1_score(expected, predicted,labels=[1,2,3],average='micro'))\n",
    "\n",
    "print(\"\\n\")\n",
    "print(\"Average = weighted\")\n",
    "print('precision:', metrics.precision_score(expected, predicted, average='weighted'))\n",
    "print('recall:',metrics.recall_score(expected, predicted,average='weighted'))\n",
    "print('F1-score:',metrics.f1_score(expected,predicted,labels=[1,2,3],average='weighted'))\n"
   ]
  },
  {
   "cell_type": "code",
   "execution_count": 169,
   "id": "812e4479",
   "metadata": {},
   "outputs": [],
   "source": [
    "parameters = {\n",
    "    \"n_estimators\":[5,10,50,100,250],\n",
    "    \"max_depth\":[2,4,8,16,32,None]\n",
    "    \n",
    "}"
   ]
  },
  {
   "cell_type": "code",
   "execution_count": 170,
   "id": "2aeb17e3",
   "metadata": {},
   "outputs": [
    {
     "data": {
      "text/plain": [
       "GridSearchCV(cv=5,\n",
       "             estimator=RandomForestClassifier(max_depth=8, n_estimators=250),\n",
       "             param_grid={'max_depth': [2, 4, 8, 16, 32, None],\n",
       "                         'n_estimators': [5, 10, 50, 100, 250]})"
      ]
     },
     "execution_count": 170,
     "metadata": {},
     "output_type": "execute_result"
    }
   ],
   "source": [
    "from sklearn.model_selection import GridSearchCV\n",
    "cv = GridSearchCV(forest,parameters,cv=5)\n",
    "cv.fit(dataset_oversample, label.values.ravel())"
   ]
  },
  {
   "cell_type": "code",
   "execution_count": 156,
   "id": "ebb5303d",
   "metadata": {},
   "outputs": [],
   "source": [
    "def display(results):\n",
    "    print(f'Best parameters are: {results.best_params_}')\n",
    "    print(\"\\n\")\n",
    "    mean_score = results.cv_results_['mean_test_score']\n",
    "    std_score = results.cv_results_['std_test_score']\n",
    "    params = results.cv_results_['params']\n",
    "    for mean,std,params in zip(mean_score,std_score,params):\n",
    "        print(f'{round(mean,3)} + or -{round(std,3)} for the {params}')"
   ]
  },
  {
   "cell_type": "code",
   "execution_count": 157,
   "id": "56ac7873",
   "metadata": {},
   "outputs": [
    {
     "name": "stdout",
     "output_type": "stream",
     "text": [
      "Best parameters are: {'max_depth': 8, 'n_estimators': 50}\n",
      "\n",
      "\n",
      "0.658 + or -0.025 for the {'max_depth': 2, 'n_estimators': 5}\n",
      "0.67 + or -0.034 for the {'max_depth': 2, 'n_estimators': 10}\n",
      "0.692 + or -0.02 for the {'max_depth': 2, 'n_estimators': 50}\n",
      "0.69 + or -0.019 for the {'max_depth': 2, 'n_estimators': 100}\n",
      "0.689 + or -0.014 for the {'max_depth': 2, 'n_estimators': 250}\n",
      "0.692 + or -0.015 for the {'max_depth': 4, 'n_estimators': 5}\n",
      "0.705 + or -0.011 for the {'max_depth': 4, 'n_estimators': 10}\n",
      "0.707 + or -0.01 for the {'max_depth': 4, 'n_estimators': 50}\n",
      "0.717 + or -0.013 for the {'max_depth': 4, 'n_estimators': 100}\n",
      "0.71 + or -0.011 for the {'max_depth': 4, 'n_estimators': 250}\n",
      "0.704 + or -0.013 for the {'max_depth': 8, 'n_estimators': 5}\n",
      "0.707 + or -0.013 for the {'max_depth': 8, 'n_estimators': 10}\n",
      "0.721 + or -0.01 for the {'max_depth': 8, 'n_estimators': 50}\n",
      "0.719 + or -0.01 for the {'max_depth': 8, 'n_estimators': 100}\n",
      "0.715 + or -0.013 for the {'max_depth': 8, 'n_estimators': 250}\n",
      "0.713 + or -0.008 for the {'max_depth': 16, 'n_estimators': 5}\n",
      "0.716 + or -0.009 for the {'max_depth': 16, 'n_estimators': 10}\n",
      "0.717 + or -0.01 for the {'max_depth': 16, 'n_estimators': 50}\n",
      "0.714 + or -0.005 for the {'max_depth': 16, 'n_estimators': 100}\n",
      "0.715 + or -0.005 for the {'max_depth': 16, 'n_estimators': 250}\n",
      "0.703 + or -0.006 for the {'max_depth': 32, 'n_estimators': 5}\n",
      "0.71 + or -0.013 for the {'max_depth': 32, 'n_estimators': 10}\n",
      "0.712 + or -0.011 for the {'max_depth': 32, 'n_estimators': 50}\n",
      "0.709 + or -0.003 for the {'max_depth': 32, 'n_estimators': 100}\n",
      "0.711 + or -0.008 for the {'max_depth': 32, 'n_estimators': 250}\n",
      "0.709 + or -0.011 for the {'max_depth': None, 'n_estimators': 5}\n",
      "0.711 + or -0.01 for the {'max_depth': None, 'n_estimators': 10}\n",
      "0.707 + or -0.004 for the {'max_depth': None, 'n_estimators': 50}\n",
      "0.709 + or -0.005 for the {'max_depth': None, 'n_estimators': 100}\n",
      "0.714 + or -0.005 for the {'max_depth': None, 'n_estimators': 250}\n"
     ]
    }
   ],
   "source": [
    "display(cv)"
   ]
  },
  {
   "cell_type": "code",
   "execution_count": 158,
   "id": "bb1222b7",
   "metadata": {},
   "outputs": [
    {
     "data": {
      "text/plain": [
       "array([4.79488497e-03, 3.11389515e-02, 2.24147920e-02, 9.43166877e-02,\n",
       "       3.02058747e-03, 6.24802797e-02, 8.99536853e-03, 1.33117870e-03,\n",
       "       6.31010129e-04, 4.91344213e-03, 2.73191338e-04, 1.42823817e-02,\n",
       "       1.02158734e-03, 1.68454587e-02, 3.54115406e-04, 6.20275213e-03,\n",
       "       3.43258721e-04, 4.56733230e-03, 4.21528025e-03, 6.46303956e-03,\n",
       "       2.41069542e-04, 5.51365040e-03, 3.17997218e-01, 5.57492545e-03,\n",
       "       5.48708451e-04, 2.55946946e-03, 4.54627530e-03, 1.94755995e-02,\n",
       "       2.22386163e-02, 4.06292615e-02, 5.71716940e-03, 5.74343364e-02,\n",
       "       3.53685975e-02, 1.93549523e-01])"
      ]
     },
     "execution_count": 158,
     "metadata": {},
     "output_type": "execute_result"
    }
   ],
   "source": [
    "forest.feature_importances_ # 27 28 31 32 # "
   ]
  },
  {
   "cell_type": "code",
   "execution_count": 160,
   "id": "01fc18b5",
   "metadata": {},
   "outputs": [
    {
     "name": "stderr",
     "output_type": "stream",
     "text": [
      "/Users/sean/opt/miniconda3/envs/py38/lib/python3.8/site-packages/sklearn/base.py:493: FutureWarning: The feature names should match those that were passed during fit. Starting version 1.2, an error will be raised.\n",
      "Feature names seen at fit time, yet now missing:\n",
      "- T15\n",
      "- T16\n",
      "- T17\n",
      "- T20\n",
      "- T21\n",
      "- ...\n",
      "\n",
      "  warnings.warn(message, FutureWarning)\n"
     ]
    },
    {
     "ename": "ValueError",
     "evalue": "X has 34 features, but RandomForestClassifier is expecting 41 features as input.",
     "output_type": "error",
     "traceback": [
      "\u001b[0;31m---------------------------------------------------------------------------\u001b[0m",
      "\u001b[0;31mValueError\u001b[0m                                Traceback (most recent call last)",
      "\u001b[0;32m/var/folders/yv/0fxd8k0d0w7fn1h5v3_k46x80000gn/T/ipykernel_5812/2326402714.py\u001b[0m in \u001b[0;36m<module>\u001b[0;34m\u001b[0m\n\u001b[0;32m----> 1\u001b[0;31m \u001b[0mresult\u001b[0m \u001b[0;34m=\u001b[0m \u001b[0mforest1\u001b[0m\u001b[0;34m.\u001b[0m\u001b[0mpredict_proba\u001b[0m\u001b[0;34m(\u001b[0m\u001b[0mtestset\u001b[0m\u001b[0;34m)\u001b[0m\u001b[0;34m\u001b[0m\u001b[0;34m\u001b[0m\u001b[0m\n\u001b[0m\u001b[1;32m      2\u001b[0m \u001b[0;34m\u001b[0m\u001b[0m\n\u001b[1;32m      3\u001b[0m \u001b[0mc1\u001b[0m \u001b[0;34m=\u001b[0m \u001b[0;34m[\u001b[0m\u001b[0;34m]\u001b[0m\u001b[0;34m\u001b[0m\u001b[0;34m\u001b[0m\u001b[0m\n\u001b[1;32m      4\u001b[0m \u001b[0mc2\u001b[0m \u001b[0;34m=\u001b[0m \u001b[0;34m[\u001b[0m\u001b[0;34m]\u001b[0m\u001b[0;34m\u001b[0m\u001b[0;34m\u001b[0m\u001b[0m\n\u001b[1;32m      5\u001b[0m \u001b[0mc3\u001b[0m \u001b[0;34m=\u001b[0m \u001b[0;34m[\u001b[0m\u001b[0;34m]\u001b[0m\u001b[0;34m\u001b[0m\u001b[0;34m\u001b[0m\u001b[0m\n",
      "\u001b[0;32m~/opt/miniconda3/envs/py38/lib/python3.8/site-packages/sklearn/ensemble/_forest.py\u001b[0m in \u001b[0;36mpredict_proba\u001b[0;34m(self, X)\u001b[0m\n\u001b[1;32m    848\u001b[0m         \u001b[0mcheck_is_fitted\u001b[0m\u001b[0;34m(\u001b[0m\u001b[0mself\u001b[0m\u001b[0;34m)\u001b[0m\u001b[0;34m\u001b[0m\u001b[0;34m\u001b[0m\u001b[0m\n\u001b[1;32m    849\u001b[0m         \u001b[0;31m# Check data\u001b[0m\u001b[0;34m\u001b[0m\u001b[0;34m\u001b[0m\u001b[0;34m\u001b[0m\u001b[0m\n\u001b[0;32m--> 850\u001b[0;31m         \u001b[0mX\u001b[0m \u001b[0;34m=\u001b[0m \u001b[0mself\u001b[0m\u001b[0;34m.\u001b[0m\u001b[0m_validate_X_predict\u001b[0m\u001b[0;34m(\u001b[0m\u001b[0mX\u001b[0m\u001b[0;34m)\u001b[0m\u001b[0;34m\u001b[0m\u001b[0;34m\u001b[0m\u001b[0m\n\u001b[0m\u001b[1;32m    851\u001b[0m \u001b[0;34m\u001b[0m\u001b[0m\n\u001b[1;32m    852\u001b[0m         \u001b[0;31m# Assign chunk of trees to jobs\u001b[0m\u001b[0;34m\u001b[0m\u001b[0;34m\u001b[0m\u001b[0;34m\u001b[0m\u001b[0m\n",
      "\u001b[0;32m~/opt/miniconda3/envs/py38/lib/python3.8/site-packages/sklearn/ensemble/_forest.py\u001b[0m in \u001b[0;36m_validate_X_predict\u001b[0;34m(self, X)\u001b[0m\n\u001b[1;32m    577\u001b[0m         Validate X whenever one tries to predict, apply, predict_proba.\"\"\"\n\u001b[1;32m    578\u001b[0m         \u001b[0mcheck_is_fitted\u001b[0m\u001b[0;34m(\u001b[0m\u001b[0mself\u001b[0m\u001b[0;34m)\u001b[0m\u001b[0;34m\u001b[0m\u001b[0;34m\u001b[0m\u001b[0m\n\u001b[0;32m--> 579\u001b[0;31m         \u001b[0mX\u001b[0m \u001b[0;34m=\u001b[0m \u001b[0mself\u001b[0m\u001b[0;34m.\u001b[0m\u001b[0m_validate_data\u001b[0m\u001b[0;34m(\u001b[0m\u001b[0mX\u001b[0m\u001b[0;34m,\u001b[0m \u001b[0mdtype\u001b[0m\u001b[0;34m=\u001b[0m\u001b[0mDTYPE\u001b[0m\u001b[0;34m,\u001b[0m \u001b[0maccept_sparse\u001b[0m\u001b[0;34m=\u001b[0m\u001b[0;34m\"csr\"\u001b[0m\u001b[0;34m,\u001b[0m \u001b[0mreset\u001b[0m\u001b[0;34m=\u001b[0m\u001b[0;32mFalse\u001b[0m\u001b[0;34m)\u001b[0m\u001b[0;34m\u001b[0m\u001b[0;34m\u001b[0m\u001b[0m\n\u001b[0m\u001b[1;32m    580\u001b[0m         \u001b[0;32mif\u001b[0m \u001b[0missparse\u001b[0m\u001b[0;34m(\u001b[0m\u001b[0mX\u001b[0m\u001b[0;34m)\u001b[0m \u001b[0;32mand\u001b[0m \u001b[0;34m(\u001b[0m\u001b[0mX\u001b[0m\u001b[0;34m.\u001b[0m\u001b[0mindices\u001b[0m\u001b[0;34m.\u001b[0m\u001b[0mdtype\u001b[0m \u001b[0;34m!=\u001b[0m \u001b[0mnp\u001b[0m\u001b[0;34m.\u001b[0m\u001b[0mintc\u001b[0m \u001b[0;32mor\u001b[0m \u001b[0mX\u001b[0m\u001b[0;34m.\u001b[0m\u001b[0mindptr\u001b[0m\u001b[0;34m.\u001b[0m\u001b[0mdtype\u001b[0m \u001b[0;34m!=\u001b[0m \u001b[0mnp\u001b[0m\u001b[0;34m.\u001b[0m\u001b[0mintc\u001b[0m\u001b[0;34m)\u001b[0m\u001b[0;34m:\u001b[0m\u001b[0;34m\u001b[0m\u001b[0;34m\u001b[0m\u001b[0m\n\u001b[1;32m    581\u001b[0m             \u001b[0;32mraise\u001b[0m \u001b[0mValueError\u001b[0m\u001b[0;34m(\u001b[0m\u001b[0;34m\"No support for np.int64 index based sparse matrices\"\u001b[0m\u001b[0;34m)\u001b[0m\u001b[0;34m\u001b[0m\u001b[0;34m\u001b[0m\u001b[0m\n",
      "\u001b[0;32m~/opt/miniconda3/envs/py38/lib/python3.8/site-packages/sklearn/base.py\u001b[0m in \u001b[0;36m_validate_data\u001b[0;34m(self, X, y, reset, validate_separately, **check_params)\u001b[0m\n\u001b[1;32m    583\u001b[0m \u001b[0;34m\u001b[0m\u001b[0m\n\u001b[1;32m    584\u001b[0m         \u001b[0;32mif\u001b[0m \u001b[0;32mnot\u001b[0m \u001b[0mno_val_X\u001b[0m \u001b[0;32mand\u001b[0m \u001b[0mcheck_params\u001b[0m\u001b[0;34m.\u001b[0m\u001b[0mget\u001b[0m\u001b[0;34m(\u001b[0m\u001b[0;34m\"ensure_2d\"\u001b[0m\u001b[0;34m,\u001b[0m \u001b[0;32mTrue\u001b[0m\u001b[0;34m)\u001b[0m\u001b[0;34m:\u001b[0m\u001b[0;34m\u001b[0m\u001b[0;34m\u001b[0m\u001b[0m\n\u001b[0;32m--> 585\u001b[0;31m             \u001b[0mself\u001b[0m\u001b[0;34m.\u001b[0m\u001b[0m_check_n_features\u001b[0m\u001b[0;34m(\u001b[0m\u001b[0mX\u001b[0m\u001b[0;34m,\u001b[0m \u001b[0mreset\u001b[0m\u001b[0;34m=\u001b[0m\u001b[0mreset\u001b[0m\u001b[0;34m)\u001b[0m\u001b[0;34m\u001b[0m\u001b[0;34m\u001b[0m\u001b[0m\n\u001b[0m\u001b[1;32m    586\u001b[0m \u001b[0;34m\u001b[0m\u001b[0m\n\u001b[1;32m    587\u001b[0m         \u001b[0;32mreturn\u001b[0m \u001b[0mout\u001b[0m\u001b[0;34m\u001b[0m\u001b[0;34m\u001b[0m\u001b[0m\n",
      "\u001b[0;32m~/opt/miniconda3/envs/py38/lib/python3.8/site-packages/sklearn/base.py\u001b[0m in \u001b[0;36m_check_n_features\u001b[0;34m(self, X, reset)\u001b[0m\n\u001b[1;32m    398\u001b[0m \u001b[0;34m\u001b[0m\u001b[0m\n\u001b[1;32m    399\u001b[0m         \u001b[0;32mif\u001b[0m \u001b[0mn_features\u001b[0m \u001b[0;34m!=\u001b[0m \u001b[0mself\u001b[0m\u001b[0;34m.\u001b[0m\u001b[0mn_features_in_\u001b[0m\u001b[0;34m:\u001b[0m\u001b[0;34m\u001b[0m\u001b[0;34m\u001b[0m\u001b[0m\n\u001b[0;32m--> 400\u001b[0;31m             raise ValueError(\n\u001b[0m\u001b[1;32m    401\u001b[0m                 \u001b[0;34mf\"X has {n_features} features, but {self.__class__.__name__} \"\u001b[0m\u001b[0;34m\u001b[0m\u001b[0;34m\u001b[0m\u001b[0m\n\u001b[1;32m    402\u001b[0m                 \u001b[0;34mf\"is expecting {self.n_features_in_} features as input.\"\u001b[0m\u001b[0;34m\u001b[0m\u001b[0;34m\u001b[0m\u001b[0m\n",
      "\u001b[0;31mValueError\u001b[0m: X has 34 features, but RandomForestClassifier is expecting 41 features as input."
     ]
    }
   ],
   "source": [
    "result = forest1.predict_proba(testset)\n",
    "\n",
    "c1 = []\n",
    "c2 = []\n",
    "c3 = []\n",
    "for i in range(300):\n",
    "    c1.append(result[i][0])\n",
    "    c2.append(result[i][1])\n",
    "    c3.append(result[i][2])\n",
    "\n",
    "\n",
    "# submission\n",
    "\n",
    "id = []\n",
    "for i in range(1,301):\n",
    "    id.append(i)\n",
    "\n",
    "submission = pd.DataFrame({\n",
    "    \"ID\": id,\n",
    "    \"C1\": c1,\n",
    "    \"C2\": c2,\n",
    "    \"C3\": c3,\n",
    "})\n",
    "submission.to_csv('input/result3.csv', index=False)\n"
   ]
  },
  {
   "cell_type": "code",
   "execution_count": null,
   "id": "75dded5f",
   "metadata": {},
   "outputs": [],
   "source": []
  }
 ],
 "metadata": {
  "kernelspec": {
   "display_name": "Python 3 (ipykernel)",
   "language": "python",
   "name": "python3"
  },
  "language_info": {
   "codemirror_mode": {
    "name": "ipython",
    "version": 3
   },
   "file_extension": ".py",
   "mimetype": "text/x-python",
   "name": "python",
   "nbconvert_exporter": "python",
   "pygments_lexer": "ipython3",
   "version": "3.8.12"
  }
 },
 "nbformat": 4,
 "nbformat_minor": 5
}
